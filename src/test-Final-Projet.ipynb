{
  "cells": [
    {
      "cell_type": "code",
      "execution_count": 1,
      "metadata": {
        "colab": {
          "base_uri": "https://localhost:8080/"
        },
        "id": "BKPs0sHsj3eK",
        "outputId": "8a8caccc-99e4-4d7d-87e6-29b897f6e7c1"
      },
      "outputs": [
        {
          "name": "stdout",
          "output_type": "stream",
          "text": [
            "extracting frames from image\n",
            "Reading and resizing the first image\n",
            "Shape of First Image:  (200, 400)\n",
            "Minimum Intensity:  9\n",
            "Maximum Intensity:  134\n",
            "Reading and resizing the second image\n",
            "Shape of Second Image:  (200, 400)\n",
            "Minimum Intensity:  8\n",
            "Maximum Intensity:  130\n",
            "Preparing image for Hough Transform\n",
            "Smoothing the image\n",
            "Doing edge detection\n",
            "Starting hough transform\n",
            "time taken for hough transform 120.7180061340332\n",
            "Finding the local maximuma and thresholded peaks\n",
            "Number of lines found 25\n",
            "Rho List [23, 26, 28, 30, 32, 33, 39, 177, 183, 183, 185, 187, 189, 191, 194, 326, 329, 333, 334, 336, 338, 338, 341, 343, 347]\n",
            "Theta List [88, 87, 84, 83, 85, 82, 80, 97, 93, 95, 92, 94, 93, 90, 89, 103, 102, 99, 101, 98, 97, 100, 99, 98, 95]\n",
            "Filtering only required middle lines and finding the best divider line\n",
            "[183, 185, 189, 191, 194] [93, 92, 93, 90, 89]\n",
            "188 91\n",
            "Implementing the right and left maskes\n",
            "Applying Left Mask to first and second images\n",
            "Applying Right Mask to first and second images\n",
            "Applying Guassian bluring on all the four images\n",
            "Applying LUCAS KANADE OPTICAL FLOW on both the images on both the sides of the road\n",
            "Applying derivative averaging for both the images on right and left sides using loberts masks\n",
            "Time taken to apply gradient averaging and applying gaussian blur 23.431570768356323\n",
            "Determining U and V matrices for the left side of the road images\n",
            "Applying median filter on left u and v\n",
            "Determining U and V matrices for the right side of the road images\n",
            "Applying median filter on right u and v\n",
            "Complete time taken to find u and v matrices for both the sides of the road and apply median filter on it 3.6188251972198486\n",
            "Analyzing the histogram of the UV directions of the left side of the road\n",
            "Analyzing the histogram of the UV directions of the right side of the road\n",
            "FINAL RESULTS\n",
            "The vehicle on the LEFT SIDE OF THE ROAD IS IN THE WRONG DIRECTION\n",
            "The vehicle on the RIGHT SIDE OF THE ROAD IS IN THE WRONG DIRECTION\n"
          ]
        }
      ],
      "source": [
        "!python Final-Projet-TDMA-Amer-Elyes-Wrong-Direction-Vehicle-Detection.py leftwrong_rightwrong.MOV\n"
      ]
    }
  ],
  "metadata": {
    "colab": {
      "provenance": []
    },
    "kernelspec": {
      "display_name": "Python 3",
      "name": "python3"
    },
    "language_info": {
      "codemirror_mode": {
        "name": "ipython",
        "version": 3
      },
      "file_extension": ".py",
      "mimetype": "text/x-python",
      "name": "python",
      "nbconvert_exporter": "python",
      "pygments_lexer": "ipython3",
      "version": "3.10.4"
    }
  },
  "nbformat": 4,
  "nbformat_minor": 0
}
